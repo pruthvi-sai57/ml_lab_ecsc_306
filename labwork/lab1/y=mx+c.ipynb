{
 "cells": [
  {
   "cell_type": "code",
   "execution_count": null,
   "metadata": {
    "collapsed": true
   },
   "outputs": [],
   "source": [
    "##y=mx+c"
   ]
  },
  {
   "cell_type": "code",
   "execution_count": 37,
   "metadata": {},
   "outputs": [
    {
     "name": "stdout",
     "output_type": "stream",
     "text": [
      "13.0\n",
      "8.6\n",
      "[[  5. -11.  18.  -9.  -3.]]\n",
      "560.0\n",
      "-6.0\n",
      "-0.0107143\n",
      "8.73929\n",
      "8.73929\n"
     ]
    }
   ],
   "source": [
    "import tensorflow as tf\n",
    "\n",
    "with tf.name_scope(\"var\"):\n",
    "    with tf.name_scope(\"mean_x\"):\n",
    "        a1=tf.constant([18.0, 2.0, 31.0,4.0,10.0],shape=[1,5],name='a1')\n",
    "        b1=tf.constant([6.0, 3.0, 7.0,8.0,19.0],shape=[1,5],name='b1')\n",
    "        x=tf.reduce_mean(a1)\n",
    "        sess=tf.Session()\n",
    "    print(sess.run(x))\n",
    "    with tf.name_scope(\"mean_y\"):\n",
    "        y=tf.reduce_mean(b1)\n",
    "        sess=tf.Session()\n",
    "        print(sess.run(y))\n",
    "d=tf.subtract(a1,x)\n",
    "sess=tf.Session()\n",
    "print(sess.run(d))\n",
    "       \n",
    "e=tf.square(d)\n",
    "var=tf.reduce_sum(e)\n",
    "sess=tf.Session()\n",
    "print(sess.run(var))    \n",
    "    \n",
    "with tf.name_scope(\"covariance\"):\n",
    "    g=tf.subtract(b1,y)\n",
    "    sess=tf.Session()\n",
    "    g=tf.multiply(d,g)\n",
    "    h=tf.reduce_sum(g)\n",
    "    print(sess.run(h))    \n",
    "\n",
    "with tf.name_scope(\"value_of_c\"):\n",
    "    j=tf.divide(h,var)\n",
    "    print(sess.run(j))\n",
    "\n",
    "with tf.name_scope(\"value_m\"):\n",
    "    i=tf.multiply(j,x)\n",
    "    k=tf.subtract(y,i)\n",
    "    print(sess.run(k))  \n",
    "    \n",
    "with tf.Session() as sess:\n",
    "    writer = tf.summary.FileWriter(\"/tmp/tboard/output3\", sess.graph)\n",
    "    print(sess.run(k))\n",
    "    writer.close()\n",
    "\n"
   ]
  },
  {
   "cell_type": "code",
   "execution_count": 38,
   "metadata": {},
   "outputs": [
    {
     "name": "stdout",
     "output_type": "stream",
     "text": [
      "13.0\n",
      "8.6\n",
      "[[  5. -11.  18.  -9.  -3.]]\n",
      "560.0\n",
      "-6.0\n",
      "-0.0107143\n",
      "8.73929\n",
      "5.4626\n",
      "8.73929\n"
     ]
    }
   ],
   "source": [
    "import tensorflow as tf\n",
    "\n",
    "with tf.name_scope(\"var\"):\n",
    "    with tf.name_scope(\"mean_x\"):\n",
    "        a1=tf.constant([18.0, 2.0, 31.0,4.0,10.0],shape=[1,5],name='a1')\n",
    "        b1=tf.constant([6.0, 3.0, 7.0,8.0,19.0],shape=[1,5],name='b1')\n",
    "        x=tf.reduce_mean(a1)\n",
    "        sess=tf.Session()\n",
    "    print(sess.run(x))\n",
    "    with tf.name_scope(\"mean_y\"):\n",
    "        y=tf.reduce_mean(b1)\n",
    "        sess=tf.Session()\n",
    "        print(sess.run(y))\n",
    "d=tf.subtract(a1,x)\n",
    "sess=tf.Session()\n",
    "print(sess.run(d))\n",
    "       \n",
    "e=tf.square(d)\n",
    "var=tf.reduce_sum(e)\n",
    "sess=tf.Session()\n",
    "print(sess.run(var))    \n",
    "    \n",
    "with tf.name_scope(\"covariance\"):\n",
    "    g=tf.subtract(b1,y)\n",
    "    sess=tf.Session()\n",
    "    g=tf.multiply(d,g)\n",
    "    h=tf.reduce_sum(g)\n",
    "    print(sess.run(h))    \n",
    "\n",
    "with tf.name_scope(\"value_of_m\"):\n",
    "    j=tf.divide(h,var)\n",
    "    print(sess.run(j))\n",
    "\n",
    "with tf.name_scope(\"value_c\"):\n",
    "    i=tf.multiply(j,x)\n",
    "    k=tf.subtract(y,i)\n",
    "    print(sess.run(k))  \n",
    "#calculating root mean square error\n",
    "with tf.name_scope(\"root_mean_square_error\"):\n",
    "    l=tf.subtract(b1,y)\n",
    "    m=tf.multiply(l, l)\n",
    "    n=tf.reduce_sum(m)\n",
    "    o=tf.divide(n, 5,)\n",
    "    p=tf.sqrt(o)\n",
    "    print (sess.run(p))\n",
    "    \n",
    "\n",
    "with tf.Session() as sess:\n",
    "    writer = tf.summary.FileWriter(\"/tmp/tboard/output3\", sess.graph)\n",
    "    print(sess.run(k))\n",
    "    writer.close()\n",
    "\n"
   ]
  },
  {
   "cell_type": "code",
   "execution_count": 39,
   "metadata": {},
   "outputs": [
    {
     "name": "stdout",
     "output_type": "stream",
     "text": [
      "[8.6857147, 8.6750011, 8.6642866, 8.6535721, 8.6428576]\n"
     ]
    }
   ],
   "source": [
    "#estimating y values from x values\n",
    "import numpy \n",
    "\n",
    "with tf.Session() as sess:\n",
    "    x1=sess.run(a1)\n",
    "    y1=sess.run(b1)\n",
    "graph_X = numpy.asarray(x1)\n",
    "graph_Y = numpy.asarray(y1)\n",
    "\n",
    "\n",
    "x2=tf.constant([5.0,6.0, 7.0, 8.0, 9.0])\n",
    "with tf.Session() as sess:\n",
    "    x3=sess.run(x2)\n",
    "x4=numpy.asarray(x3)\n",
    "\n",
    "y2=[0]*5\n",
    "    \n",
    "with tf.Session() as sess:\n",
    "        for i in range(len(sess.run(x2))):\n",
    "            xx = sess.run(x2[i])\n",
    "            a=tf.multiply(xx,j)\n",
    "            b=tf.add(a,k)\n",
    "            y2[i]=sess.run(b)\n",
    "print(y2)"
   ]
  },
  {
   "cell_type": "code",
   "execution_count": 40,
   "metadata": {},
   "outputs": [
    {
     "data": {
      "image/png": "[encoded data removed]",
      "text/plain": [
       "<matplotlib.figure.Figure at 0x7f4f3ff0bd68>"
      ]
     },
     "metadata": {},
     "output_type": "display_data"
    }
   ],
   "source": [
    "#graphs\n",
    "import matplotlib.pyplot as plt\n",
    "plt.plot(graph_X,graph_Y, 'ro', label='Actual values')\n",
    "plt.plot(x4, y2, label='fitted line')\n",
    "plt.legend()\n",
    "plt.show()"
   ]
  },
  {
   "cell_type": "code",
   "execution_count": null,
   "metadata": {
    "collapsed": true
   },
   "outputs": [],
   "source": []
  },
  {
   "cell_type": "code",
   "execution_count": null,
   "metadata": {
    "collapsed": true
   },
   "outputs": [],
   "source": []
  }
 ],
 "metadata": {
  "kernelspec": {
   "display_name": "Python 3",
   "language": "python",
   "name": "python3"
  },
  "language_info": {
   "codemirror_mode": {
    "name": "ipython",
    "version": 3
   },
   "file_extension": ".py",
   "mimetype": "text/x-python",
   "name": "python",
   "nbconvert_exporter": "python",
   "pygments_lexer": "ipython3",
   "version": "3.6.1"
  }
 },
 "nbformat": 4,
 "nbformat_minor": 2
}
