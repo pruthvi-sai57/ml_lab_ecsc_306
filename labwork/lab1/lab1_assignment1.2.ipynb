{
 "cells": [
  {
   "cell_type": "code",
   "execution_count": null,
   "metadata": {
    "collapsed": true
   },
   "outputs": [],
   "source": [
    "##(a^3+b^3)"
   ]
  },
  {
   "cell_type": "code",
   "execution_count": 1,
   "metadata": {},
   "outputs": [
    {
     "name": "stdout",
     "output_type": "stream",
     "text": [
      "9\n"
     ]
    }
   ],
   "source": [
    "import tensorflow as tf\n",
    "a=tf.constant(1)\n",
    "b=tf.constant(2)\n",
    "with tf.name_scope(\"ADD\"):\n",
    "    c=tf.add(a,b)\n",
    "    with tf.name_scope(\"multiply\"):\n",
    "        d=tf.multiply(a,a)\n",
    "        e=tf.multiply(b,b)\n",
    "        f=tf.multiply(a,b)\n",
    "        with tf.name_scope(\"equation\"):\n",
    "            g=d+e-f\n",
    "            h=tf.multiply(c,g)\n",
    "sess1=tf.Session()\n",
    "print(sess1.run(h))\n",
    "writer = tf.summary.FileWriter(\"/tmp/tboard/output2\", sess1.graph)"
   ]
  },
  {
   "cell_type": "code",
   "execution_count": null,
   "metadata": {
    "collapsed": true
   },
   "outputs": [],
   "source": []
  }
 ],
 "metadata": {
  "kernelspec": {
   "display_name": "Python 3",
   "language": "python",
   "name": "python3"
  },
  "language_info": {
   "codemirror_mode": {
    "name": "ipython",
    "version": 3
   },
   "file_extension": ".py",
   "mimetype": "text/x-python",
   "name": "python",
   "nbconvert_exporter": "python",
   "pygments_lexer": "ipython3",
   "version": "3.6.1"
  }
 },
 "nbformat": 4,
 "nbformat_minor": 2
}
