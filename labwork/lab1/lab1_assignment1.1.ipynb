{
 "cells": [
  {
   "cell_type": "code",
   "execution_count": null,
   "metadata": {
    "collapsed": true
   },
   "outputs": [],
   "source": [
    "##(a-b)^2\n"
   ]
  },
  {
   "cell_type": "code",
   "execution_count": 3,
   "metadata": {},
   "outputs": [
    {
     "name": "stdout",
     "output_type": "stream",
     "text": [
      "1\n"
     ]
    }
   ],
   "source": [
    "import tensorflow as tf\n",
    "a=tf.constant(3)\n",
    "b=tf.constant(2)\n",
    "\n",
    "\n",
    "with tf.name_scope(\"lab1assgn1\"):\n",
    "    with tf.name_scope(\"Scope_A\"):\n",
    "        x = tf.multiply(a, a)\n",
    "        y = tf.multiply(b, b)\n",
    "    with tf.name_scope(\"Scope_B\"):\n",
    "        z = tf.multiply(2, a)\n",
    "        h = tf.multiply(z, b)\n",
    "with tf.name_scope(\"Scope_C\"):\n",
    "    d = tf.add(x, y)\n",
    "    s = tf.subtract(d, h)\n",
    "\n",
    "\n",
    "\n",
    "with tf.Session() as sess:\n",
    "    writer = tf.summary.FileWriter(\"/tmp/tboard/output1\", sess.graph)\n",
    "    print(sess.run(s))\n",
    "    writer.close()"
   ]
  },
  {
   "cell_type": "code",
   "execution_count": null,
   "metadata": {
    "collapsed": true
   },
   "outputs": [],
   "source": []
  },
  {
   "cell_type": "code",
   "execution_count": null,
   "metadata": {
    "collapsed": true
   },
   "outputs": [],
   "source": []
  }
 ],
 "metadata": {
  "kernelspec": {
   "display_name": "Python 3",
   "language": "python",
   "name": "python3"
  },
  "language_info": {
   "codemirror_mode": {
    "name": "ipython",
    "version": 3
   },
   "file_extension": ".py",
   "mimetype": "text/x-python",
   "name": "python",
   "nbconvert_exporter": "python",
   "pygments_lexer": "ipython3",
   "version": "3.6.1"
  }
 },
 "nbformat": 4,
 "nbformat_minor": 2
}
