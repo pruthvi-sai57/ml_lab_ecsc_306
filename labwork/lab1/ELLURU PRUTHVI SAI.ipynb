{
 "cells": [
  {
   "cell_type": "code",
   "execution_count": 8,
   "metadata": {},
   "outputs": [
    {
     "name": "stdout",
     "output_type": "stream",
     "text": [
      "29.824\n",
      "7.8\n",
      "[[ -4.8239994   -2.8239994   -3.62399864  -2.50399971  13.77599907]]\n",
      "240.427\n",
      "-46.576\n",
      "-0.193722\n",
      "13.5776\n",
      "13.5776\n"
     ]
    }
   ],
   "source": [
    "import tensorflow as tf\n",
    "\n",
    "with tf.name_scope(\"var\"):\n",
    "    with tf.name_scope(\"mean_x\"):\n",
    "        a1=tf.constant([25.0,27.0,26.2,27.32,43.6],shape=[1,5],name='a1')\n",
    "        b1=tf.constant([7.0,9.0,10.0,8.0,5.0],shape=[1,5],name='b1')\n",
    "        x=tf.reduce_mean(a1)\n",
    "        sess=tf.Session()\n",
    "    print(sess.run(x))\n",
    "    with tf.name_scope(\"mean_y\"):\n",
    "        y=tf.reduce_mean(b1)\n",
    "        sess=tf.Session()\n",
    "        print(sess.run(y))\n",
    "d=tf.subtract(a1,x)\n",
    "sess=tf.Session()\n",
    "print(sess.run(d))\n",
    "       \n",
    "e=tf.square(d)\n",
    "var=tf.reduce_sum(e)\n",
    "sess=tf.Session()\n",
    "print(sess.run(var))    \n",
    "    \n",
    "with tf.name_scope(\"covariance\"):\n",
    "    g=tf.subtract(b1,y)\n",
    "    sess=tf.Session()\n",
    "    g=tf.multiply(d,g)\n",
    "    h=tf.reduce_sum(g)\n",
    "    print(sess.run(h))    \n",
    "\n",
    "with tf.name_scope(\"value_of_c\"):\n",
    "    j=tf.divide(h,var)\n",
    "    print(sess.run(j))\n",
    "\n",
    "with tf.name_scope(\"value_m\"):\n",
    "    i=tf.multiply(j,x)\n",
    "    k=tf.subtract(y,i)\n",
    "    print(sess.run(k))  \n",
    "    \n",
    "with tf.Session() as sess:\n",
    "    writer = tf.summary.FileWriter(\"/tmp/tboard/output\", sess.graph)\n",
    "    print(sess.run(k))\n",
    "    writer.close()    "
   ]
  },
  {
   "cell_type": "code",
   "execution_count": null,
   "metadata": {
    "collapsed": true
   },
   "outputs": [],
   "source": [
    "##(a-b)^2"
   ]
  },
  {
   "cell_type": "code",
   "execution_count": 13,
   "metadata": {},
   "outputs": [
    {
     "name": "stdout",
     "output_type": "stream",
     "text": [
      "1\n"
     ]
    }
   ],
   "source": [
    "\n",
    "\n",
    "\n",
    "\n",
    "import tensorflow as tf\n",
    "a=tf.constant(3)\n",
    "b=tf.constant(2)\n",
    "\n",
    "\n",
    "with tf.name_scope(\"lab1assgn1\"):\n",
    "    with tf.name_scope(\"Scope_A\"):\n",
    "        x = tf.multiply(a, a)\n",
    "        y = tf.multiply(b, b)\n",
    "    with tf.name_scope(\"Scope_B\"):\n",
    "        z = tf.multiply(2, a)\n",
    "        h = tf.multiply(z, b)\n",
    "\n",
    "with tf.name_scope(\"Scope_C\"):\n",
    "    d = tf.add(x, y)\n",
    "    s = tf.subtract(d, h)\n",
    "\n",
    "\n",
    "\n",
    "with tf.Session() as sess:\n",
    "    writer = tf.summary.FileWriter(\"/tmp/tboard/output1\", sess.graph)\n",
    "    print(sess.run(s))\n",
    "    writer.close()\n",
    "\n",
    " \n",
    "\n",
    "\n"
   ]
  },
  {
   "cell_type": "code",
   "execution_count": null,
   "metadata": {
    "collapsed": true
   },
   "outputs": [],
   "source": [
    "##(a^3+b^3)"
   ]
  },
  {
   "cell_type": "code",
   "execution_count": 19,
   "metadata": {},
   "outputs": [
    {
     "name": "stdout",
     "output_type": "stream",
     "text": [
      "9\n"
     ]
    }
   ],
   "source": [
    "import tensorflow as tf\n",
    "a=tf.constant(1)\n",
    "b=tf.constant(2)\n",
    "with tf.name_scope(\"ADD\"):\n",
    "    c=tf.add(a,b)\n",
    "    with tf.name_scope(\"multiply\"):\n",
    "        d=tf.multiply(a,a)\n",
    "        e=tf.multiply(b,b)\n",
    "        f=tf.multiply(a,b)\n",
    "        with tf.name_scope(\"equation\"):\n",
    "            g=d+e-f\n",
    "            h=tf.multiply(c,g)\n",
    "sess1=tf.Session()\n",
    "print(sess1.run(h))\n",
    "writer = tf.summary.FileWriter(\"/tmp/tboard/output2\", sess1.graph)"
   ]
  },
  {
   "cell_type": "code",
   "execution_count": null,
   "metadata": {
    "collapsed": true
   },
   "outputs": [],
   "source": []
  },
  {
   "cell_type": "code",
   "execution_count": null,
   "metadata": {
    "collapsed": true
   },
   "outputs": [],
   "source": []
  },
  {
   "cell_type": "code",
   "execution_count": null,
   "metadata": {
    "collapsed": true
   },
   "outputs": [],
   "source": []
  },
  {
   "cell_type": "code",
   "execution_count": null,
   "metadata": {
    "collapsed": true
   },
   "outputs": [],
   "source": []
  },
  {
   "cell_type": "code",
   "execution_count": null,
   "metadata": {
    "collapsed": true
   },
   "outputs": [],
   "source": []
  }
 ],
 "metadata": {
  "kernelspec": {
   "display_name": "Python 3",
   "language": "python",
   "name": "python3"
  },
  "language_info": {
   "codemirror_mode": {
    "name": "ipython",
    "version": 3
   },
   "file_extension": ".py",
   "mimetype": "text/x-python",
   "name": "python",
   "nbconvert_exporter": "python",
   "pygments_lexer": "ipython3",
   "version": "3.6.1"
  }
 },
 "nbformat": 4,
 "nbformat_minor": 2
}
